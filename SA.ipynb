{
 "cells": [
  {
   "cell_type": "code",
   "execution_count": 80,
   "metadata": {},
   "outputs": [],
   "source": [
    "import csv\n",
    "import re\n",
    "from nltk.tokenize import word_tokenize\n",
    "from nltk.corpus import stopwords\n",
    "from string import punctuation\n",
    "import numpy as np\n",
    "import pandas as pd\n",
    "from nltk.sentiment.vader import SentimentIntensityAnalyzer\n",
    "from sklearn.feature_extraction.text import TfidfVectorizer\n",
    "from sklearn.svm import SVC\n",
    "\n",
    "#Function to create Training Data\n",
    "def createTrainingData(corpusFile):\n",
    "    trainingData={}\n",
    "    with open(corpusFile,'rb') as tsvFile:\n",
    "        lineReader = csv.reader(tsvFile,dialect='excel-tab')\n",
    "        #print lineReader\n",
    "        for row in lineReader:\n",
    "            if len(row) == 2:\n",
    "                sub_row = row[0].split(\"  \")\n",
    "                trainingData[sub_row[0]] = {\"label\":sub_row[1],\"tweet_text\":row[1]}\n",
    "            else:\n",
    "                trainingData[row[0]] = {\"label\":row[1],\"tweet_text\":row[2]}\n",
    "    return trainingData\n",
    "trainingData = createTrainingData(\"/home/nishal/Documents/semval-task4-training data/semval-task4-training data/2016downloaded4-subtask A.tsv\")\n",
    "data = pd.DataFrame(trainingData)\n",
    "f1_sentiment_lexicon_vader_feature = [] #feature to get positive,negative scores for tweets\n",
    "senti_analyzer = SentimentIntensityAnalyzer() #creating instance for sentiment analyzer\n",
    "\n",
    "tfidf_vector = TfidfVectorizer()#creating instance for TFIDF vectorizer\n",
    "list_of_tweets = []\n",
    "f2_tfidf_scores = [] #feature for tfidf scores\n",
    "for only_tweet in trainingData:\n",
    "    list_of_tweets.append(trainingData[only_tweet][\"tweet_text\"])\n",
    "    \n",
    "f2_tfidf_scores.append(tfidf_vector.fit_transform(list_of_tweets))\n",
    "\n",
    "for tweet in trainingData:\n",
    "    f1_sentiment_lexicon_vader_feature.append(\n",
    "        {tweet:senti_analyzer.polarity_scores(trainingData[tweet][\"tweet_text\"])})"
   ]
  }
 ],
 "metadata": {
  "kernelspec": {
   "display_name": "Python 2",
   "language": "python",
   "name": "python2"
  },
  "language_info": {
   "codemirror_mode": {
    "name": "ipython",
    "version": 2
   },
   "file_extension": ".py",
   "mimetype": "text/x-python",
   "name": "python",
   "nbconvert_exporter": "python",
   "pygments_lexer": "ipython2",
   "version": "2.7.6"
  }
 },
 "nbformat": 4,
 "nbformat_minor": 2
}
